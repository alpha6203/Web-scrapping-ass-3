{
 "cells": [
  {
   "cell_type": "code",
   "execution_count": 5,
   "id": "5b6cac2b",
   "metadata": {},
   "outputs": [
    {
     "ename": "ModuleNotFoundError",
     "evalue": "No module named 'selenium'",
     "output_type": "error",
     "traceback": [
      "\u001b[1;31m---------------------------------------------------------------------------\u001b[0m",
      "\u001b[1;31mModuleNotFoundError\u001b[0m                       Traceback (most recent call last)",
      "Cell \u001b[1;32mIn[5], line 1\u001b[0m\n\u001b[1;32m----> 1\u001b[0m \u001b[38;5;28;01mfrom\u001b[39;00m \u001b[38;5;21;01mselenium\u001b[39;00m \u001b[38;5;28;01mimport\u001b[39;00m webdriver\n\u001b[0;32m      2\u001b[0m \u001b[38;5;28;01mfrom\u001b[39;00m \u001b[38;5;21;01mselenium\u001b[39;00m\u001b[38;5;21;01m.\u001b[39;00m\u001b[38;5;21;01mwebdriver\u001b[39;00m\u001b[38;5;21;01m.\u001b[39;00m\u001b[38;5;21;01mcommon\u001b[39;00m\u001b[38;5;21;01m.\u001b[39;00m\u001b[38;5;21;01mkeys\u001b[39;00m \u001b[38;5;28;01mimport\u001b[39;00m Keys\n\u001b[0;32m      3\u001b[0m \u001b[38;5;28;01mimport\u001b[39;00m \u001b[38;5;21;01mtime\u001b[39;00m\n",
      "\u001b[1;31mModuleNotFoundError\u001b[0m: No module named 'selenium'"
     ]
    }
   ],
   "source": [
    "from selenium import webdriver\n",
    "from selenium.webdriver.common.keys import Keys\n",
    "import time\n",
    "\n",
    "def get_coordinates(city):\n",
    "    # Launching Chrome browser using Selenium\n",
    "    driver = webdriver.Chrome(executable_path='/path/to/chromedriver')  # Replace with the path to your chromedriver\n",
    "    driver.maximize_window()\n",
    "    \n",
    "    # Navigating to Google Maps\n",
    "    driver.get('https://www.google.com/maps')\n",
    "    time.sleep(2)\n",
    "    \n",
    "    # Locating the search bar and entering the city\n",
    "    search_bar = driver.find_element_by_id('searchboxinput')\n",
    "    search_bar.clear()\n",
    "    search_bar.send_keys(city)\n",
    "    search_bar.send_keys(Keys.ENTER)\n",
    "    time.sleep(2)\n",
    "    \n",
    "    # Extracting the coordinates\n",
    "    try:\n",
    "        url = driver.current_url\n",
    "        coordinates = url.split('@')[1].split(',')[0:2]\n",
    "        latitude = coordinates[0]\n",
    "        longitude = coordinates[1]\n",
    "        print(f\"Latitude: {latitude}, Longitude: {longitude}\")\n",
    "    except Exception as e:\n",
    "        print(f\"Error occurred while extracting coordinates: {e}\")\n",
    "    \n",
    "    # Closing the browser\n",
    "    driver.quit()\n",
    "\n",
    "# Example usage\n",
    "city = \"New York\"\n",
    "get_coordinates(city)\n"
   ]
  },
  {
   "cell_type": "code",
   "execution_count": null,
   "id": "8fc2717c",
   "metadata": {},
   "outputs": [],
   "source": []
  }
 ],
 "metadata": {
  "kernelspec": {
   "display_name": "Python 3 (ipykernel)",
   "language": "python",
   "name": "python3"
  },
  "language_info": {
   "codemirror_mode": {
    "name": "ipython",
    "version": 3
   },
   "file_extension": ".py",
   "mimetype": "text/x-python",
   "name": "python",
   "nbconvert_exporter": "python",
   "pygments_lexer": "ipython3",
   "version": "3.11.5"
  }
 },
 "nbformat": 4,
 "nbformat_minor": 5
}
