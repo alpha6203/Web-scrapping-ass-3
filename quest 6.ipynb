{
 "cells": [
  {
   "cell_type": "code",
   "execution_count": 6,
   "id": "a084a1bd",
   "metadata": {},
   "outputs": [],
   "source": [
    "import requests\n",
    "from bs4 import BeautifulSoup\n",
    "import pandas as pd\n",
    "\n",
    "def scrape_digit_gaming_laptops():\n",
    "    url = 'https://www.digit.in/top-products/best-gaming-laptops-40.html'\n",
    "    response = requests.get(url)\n",
    "    soup = BeautifulSoup(response.content, 'html.parser')\n",
    "    \n",
    "    laptops = []\n",
    "    \n",
    "    for laptop in soup.find_all('div', class_='TopNumbeHeading active sticky-footer'):\n",
    "        laptop_details = {}\n",
    "        \n",
    "        try:\n",
    "            laptop_details['Name'] = laptop.find('div', class_='TopNumbeHeading active sticky-footer').text.strip()\n",
    "        except:\n",
    "            laptop_details['Name'] = '-'\n",
    "        \n",
    "        try:\n",
    "            laptop_details['Price'] = laptop.find('div', class_='Block-price').text.strip()\n",
    "        except:\n",
    "            laptop_details['Price'] = '-'\n",
    "        \n",
    "        try:\n",
    "            specs = laptop.find_all('div', class_='Specs-Wrap')[0].find_all('div', class_='value')\n",
    "            laptop_details['Processor'] = specs[0].text.strip()\n",
    "            laptop_details['RAM'] = specs[1].text.strip()\n",
    "            laptop_details['OS'] = specs[2].text.strip()\n",
    "            laptop_details['Storage'] = specs[3].text.strip()\n",
    "            laptop_details['Display'] = specs[4].text.strip()\n",
    "            laptop_details['Weight'] = specs[5].text.strip()\n",
    "        except:\n",
    "            laptop_details['Processor'] = '-'\n",
    "            laptop_details['RAM'] = '-'\n",
    "            laptop_details['OS'] = '-'\n",
    "            laptop_details['Storage'] = '-'\n",
    "            laptop_details['Display'] = '-'\n",
    "            laptop_details['Weight'] = '-'\n",
    "        \n",
    "        laptops.append(laptop_details)\n",
    "    \n",
    "    return laptops\n",
    "\n",
    "# Scrape data\n",
    "laptops = scrape_digit_gaming_laptops()\n",
    "\n",
    "# Create DataFrame\n",
    "df = pd.DataFrame(laptops)\n",
    "\n",
    "# Save to CSV\n",
    "df.to_csv('digit_gaming_laptops.csv', index=False)\n"
   ]
  },
  {
   "cell_type": "code",
   "execution_count": null,
   "id": "48f310d9",
   "metadata": {},
   "outputs": [],
   "source": []
  }
 ],
 "metadata": {
  "kernelspec": {
   "display_name": "Python 3 (ipykernel)",
   "language": "python",
   "name": "python3"
  },
  "language_info": {
   "codemirror_mode": {
    "name": "ipython",
    "version": 3
   },
   "file_extension": ".py",
   "mimetype": "text/x-python",
   "name": "python",
   "nbconvert_exporter": "python",
   "pygments_lexer": "ipython3",
   "version": "3.11.5"
  }
 },
 "nbformat": 4,
 "nbformat_minor": 5
}
