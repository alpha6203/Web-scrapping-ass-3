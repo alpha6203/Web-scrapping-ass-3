{
 "cells": [
  {
   "cell_type": "code",
   "execution_count": 8,
   "id": "c1a3fe23",
   "metadata": {},
   "outputs": [],
   "source": [
    "import requests\n",
    "from bs4 import BeautifulSoup\n",
    "\n",
    "def scrape_hostels(location):\n",
    "    url = f\"https://www.hostelworld.com/search?search_keywords={location}&country=England&city=London&type=city&id=3&sort=recommended\"\n",
    "    response = requests.get(url)\n",
    "    soup = BeautifulSoup(response.content, \"html.parser\")\n",
    "    \n",
    "    hostels = []\n",
    "\n",
    "    hostel_listings = soup.find_all(\"div\", class_=\"hwta__results__item\")\n",
    "    for hostel in hostel_listings:\n",
    "        hostel_data = {}\n",
    "        \n",
    "        hostel_data[\"name\"] = hostel.find(\"h2\", class_=\"hwta__results__name\").text.strip()\n",
    "        hostel_data[\"distance_from_city_center\"] = hostel.find(\"span\", class_=\"hwta__results__distance\").text.strip()\n",
    "        hostel_data[\"ratings\"] = hostel.find(\"div\", class_=\"hwta__results__rating\").text.strip()\n",
    "        hostel_data[\"total_reviews\"] = hostel.find(\"span\", class_=\"hwta__results__reviews-count\").text.strip()\n",
    "        hostel_data[\"overall_reviews\"] = hostel.find(\"span\", class_=\"hwta__results__reviews-score\").text.strip()\n",
    "        hostel_data[\"privates_from_price\"] = hostel.find(\"div\", class_=\"hwta__results__price\").text.strip()\n",
    "        hostel_data[\"dorms_from_price\"] = hostel.find(\"div\", class_=\"hwta__results__price-dorm\").text.strip()\n",
    "        hostel_data[\"facilities\"] = [facility.text.strip() for facility in hostel.find_all(\"li\", class_=\"hwta__results__facility\")]\n",
    "        hostel_data[\"property_description\"] = hostel.find(\"div\", class_=\"hwta__results__description\").text.strip()\n",
    "\n",
    "        hostels.append(hostel_data)\n",
    "\n",
    "    return hostels\n",
    "\n",
    "if __name__ == \"__main__\":\n",
    "    location = \"London\"\n",
    "    hostels = scrape_hostels(location)\n",
    "    for hostel in hostels:\n",
    "        print(hostel)\n"
   ]
  },
  {
   "cell_type": "code",
   "execution_count": null,
   "id": "5be7cfee",
   "metadata": {},
   "outputs": [],
   "source": []
  }
 ],
 "metadata": {
  "kernelspec": {
   "display_name": "Python 3 (ipykernel)",
   "language": "python",
   "name": "python3"
  },
  "language_info": {
   "codemirror_mode": {
    "name": "ipython",
    "version": 3
   },
   "file_extension": ".py",
   "mimetype": "text/x-python",
   "name": "python",
   "nbconvert_exporter": "python",
   "pygments_lexer": "ipython3",
   "version": "3.11.5"
  }
 },
 "nbformat": 4,
 "nbformat_minor": 5
}
