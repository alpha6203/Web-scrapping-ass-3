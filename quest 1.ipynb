{
 "cells": [
  {
   "cell_type": "code",
   "execution_count": null,
   "id": "c8472a44",
   "metadata": {},
   "outputs": [],
   "source": [
    "#import libraries\n",
    "from selenium import webdriver\n",
    "import time\n",
    "import pandas as pd\n",
    "from selenium.common.exceptions import NoSuchElementException"
   ]
  },
  {
   "cell_type": "code",
   "execution_count": null,
   "id": "ac0f0c39",
   "metadata": {},
   "outputs": [],
   "source": [
    "#connect to driver\n",
    "driver=webdriver.Chrome(r\"C://chromedriver.exe\")\n",
    "driver.maximize_window()"
   ]
  },
  {
   "cell_type": "code",
   "execution_count": null,
   "id": "b773932f",
   "metadata": {},
   "outputs": [],
   "source": [
    "#website url\n",
    "driver.get(\"https://www.amazon.in/\")"
   ]
  },
  {
   "cell_type": "code",
   "execution_count": null,
   "id": "3d1363fb",
   "metadata": {},
   "outputs": [],
   "source": [
    "#search bar selection\n",
    "search_bar=driver.find_element_by_id(\"twotabsearchtextbox\")"
   ]
  },
  {
   "cell_type": "code",
   "execution_count": 3,
   "id": "4f36bd04",
   "metadata": {},
   "outputs": [
    {
     "name": "stdout",
     "output_type": "stream",
     "text": [
      "what would you like to search today?\n",
      "laptop\n"
     ]
    }
   ],
   "source": [
    "#take input from user: Note press enter after entering the input to get out of loop\n",
    "print(\"what would you like to search today?\")\n",
    "search_for=input()"
   ]
  },
  {
   "cell_type": "code",
   "execution_count": null,
   "id": "497289c4",
   "metadata": {},
   "outputs": [],
   "source": [
    "#send the input taken\n",
    "search_bar.clear()\n",
    "search_bar.send_keys(search_for)"
   ]
  },
  {
   "cell_type": "code",
   "execution_count": null,
   "id": "d611059d",
   "metadata": {},
   "outputs": [],
   "source": [
    "#click on search icon\n",
    "search_button=driver.find_element_by_id(\"nav-search-submit-button\")\n",
    "search_button.click()"
   ]
  }
 ],
 "metadata": {
  "kernelspec": {
   "display_name": "Python 3 (ipykernel)",
   "language": "python",
   "name": "python3"
  },
  "language_info": {
   "codemirror_mode": {
    "name": "ipython",
    "version": 3
   },
   "file_extension": ".py",
   "mimetype": "text/x-python",
   "name": "python",
   "nbconvert_exporter": "python",
   "pygments_lexer": "ipython3",
   "version": "3.11.5"
  }
 },
 "nbformat": 4,
 "nbformat_minor": 5
}
